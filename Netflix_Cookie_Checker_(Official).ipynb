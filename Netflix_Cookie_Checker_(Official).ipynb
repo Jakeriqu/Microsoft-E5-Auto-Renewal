{
  "cells": [
    {
      "cell_type": "markdown",
      "metadata": {
        "id": "view-in-github",
        "colab_type": "text"
      },
      "source": [
        "<a href=\"https://colab.research.google.com/github/Jakeriqu/Microsoft-E5-Auto-Renewal/blob/main/Netflix_Cookie_Checker_(Official).ipynb\" target=\"_parent\"><img src=\"https://colab.research.google.com/assets/colab-badge.svg\" alt=\"Open In Colab\"/></a>"
      ]
    },
    {
      "cell_type": "code",
      "execution_count": null,
      "metadata": {
        "id": "LO7jpGwhRXou",
        "cellView": "form"
      },
      "outputs": [],
      "source": [
        "# @title **Bước 1: Xây dựng môi trường** { vertical-output: true}\n",
        "%%capture\n",
        "!apt-get install -y wget bzip2 libxtst6 libgtk-3-0 libx11-xcb-dev libdbus-glib-1-2 libxt6 libpci-dev xvfb unrar && rm -rf /var/lib/apt/lists/*\n",
        "!pip install pyvirtualdisplay selenium tqdm requests_toolbelt pyarmor\n",
        "from pyvirtualdisplay import Display\n",
        "display = Display(visible=0, size=(800, 600))\n",
        "display.start()\n",
        "from google.colab import output\n",
        "!git clone https://gitea.com/phathua/NetflixCookieChecker.git\n",
        "%cd NetflixCookieChecker\n",
        "!mkdir cookies working_cookies\n",
        "output.clear()\n",
        "print(\"Đã thực thi thành công\")"
      ]
    },
    {
      "cell_type": "code",
      "source": [
        "# @title [Thử nghiệm] Nhập code để đăng nhập TV (tùy chọn)\n",
        "!python3 tv.py"
      ],
      "metadata": {
        "id": "ZVmVw-kXhRME"
      },
      "execution_count": null,
      "outputs": []
    },
    {
      "cell_type": "markdown",
      "source": [
        "**Lưu ý:** Sau khi chạy bước 1 thì mới dùng được tool nhập code TV"
      ],
      "metadata": {
        "id": "h9e4vgWzVoFo"
      }
    },
    {
      "cell_type": "code",
      "execution_count": null,
      "metadata": {
        "id": "CmdlfNORrgSv",
        "cellView": "form"
      },
      "outputs": [],
      "source": [
        "# @title **Bước 2: Upload file nén cookie (định dạng zip hoặc rar)** { vertical-output: true }\n",
        "import os\n",
        "import shutil\n",
        "import zipfile\n",
        "from ipywidgets import Button, Text, HBox, Label\n",
        "from IPython.display import display\n",
        "from google.colab import files\n",
        "\n",
        "folder = 'cookies'\n",
        "\n",
        "# Xóa tất cả các file và thư mục con trong thư mục 'folder'\n",
        "shutil.rmtree(folder)\n",
        "os.makedirs(folder)\n",
        "\n",
        "print(\"Upload file nén Cookie\")\n",
        "\n",
        "# Tải lên file\n",
        "uploaded = files.upload()\n",
        "\n",
        "# Tạo trường nhập mật khẩu\n",
        "password_field = Text(description='')\n",
        "optional_label = Label(value=\"Mật khẩu (có thể bỏ trống):\")\n",
        "def on_button_clicked(b):\n",
        "    password = password_field.value\n",
        "    for filename in uploaded.keys():\n",
        "        try:\n",
        "            # Kiểm tra xem file có phải là file zip hay không\n",
        "            if filename.endswith('.zip'):\n",
        "                # Nếu là file zip, giải nén nó\n",
        "                with zipfile.ZipFile(filename, 'r') as zip_ref:\n",
        "                    zip_ref.extractall(folder, pwd=bytes(password,'utf-8') if password else None)\n",
        "            elif filename.endswith('.rar'):\n",
        "                # Nếu là file rar, giải nén nó\n",
        "                if password:\n",
        "                    !unrar x -p\"$password\" -y \"$filename\" \"$folder\"\n",
        "                else:\n",
        "                    !unrar x -y \"$filename\" \"$folder\"\n",
        "            output.clear()\n",
        "            print(\"Đã thực thi thành công\")\n",
        "        except RuntimeError:\n",
        "            output.clear()\n",
        "            print(\"Sai mật khẩu\")\n",
        "            print(\"Thực thi thất bại\")\n",
        "        finally:\n",
        "            os.remove(filename)\n",
        "\n",
        "    # Di chuyển tất cả các file từ thư mục con vào thư mục 'folder'\n",
        "    for root, dirs, files in os.walk(folder):\n",
        "        for file in files:\n",
        "            if root != folder:\n",
        "                src_file = os.path.join(root, file)\n",
        "                dst_file = os.path.join(folder, file)\n",
        "                os.replace(src_file, dst_file)\n",
        "\n",
        "button = Button(description=\"Giải nén\")\n",
        "button.on_click(on_button_clicked)\n",
        "\n",
        "# Hiển thị trường nhập mật khẩu và nút\n",
        "display(HBox([optional_label, password_field, button]))"
      ]
    },
    {
      "cell_type": "code",
      "execution_count": null,
      "metadata": {
        "id": "VysVD_uuvJVG",
        "cellView": "form"
      },
      "outputs": [],
      "source": [
        "# @title **Bước 3: Tự phát hiện chuyển đổi file Netscape sang dạng JSON** { vertical-output: true }\n",
        "!python3 cookie_converter.py\n",
        "output.clear()\n",
        "print(\"Đã thực thi thành công\")"
      ]
    },
    {
      "cell_type": "code",
      "source": [
        "# @title **Bước 4: Lọc loại tài khoản**\n",
        "import ipywidgets as widgets\n",
        "from IPython.display import display\n",
        "import json\n",
        "import os\n",
        "import shutil\n",
        "import subprocess\n",
        "\n",
        "# Xóa tất cả các file và thư mục con trong thư mục 'folder'\n",
        "if os.path.exists('filtered_cookies'):\n",
        "    shutil.rmtree('filtered_cookies')\n",
        "os.makedirs('filtered_cookies')\n",
        "\n",
        "# Đếm số lượng tài khoản cho mỗi loại\n",
        "account_types = [\"Basic\", \"Standart\", \"Premium\"]\n",
        "count = {account_type: 0 for account_type in account_types}\n",
        "files = os.listdir(\"json_cookies\")\n",
        "for filename in files:\n",
        "    filepath = os.path.join(\"json_cookies\", filename)\n",
        "    if os.path.isfile(filepath):\n",
        "        for account_type in account_types:\n",
        "            if filename.startswith(f\"[{account_type} -\"):\n",
        "                count[account_type] += 1\n",
        "\n",
        "# Tạo các checkbox\n",
        "checkbox_basic = widgets.Checkbox(value=True, description=f'Basic ({count[\"Basic\"]})')\n",
        "checkbox_standart = widgets.Checkbox(value=True, description=f'Standart ({count[\"Standart\"]})')\n",
        "checkbox_premium = widgets.Checkbox(value=True, description=f'Premium ({count[\"Premium\"]})')\n",
        "\n",
        "# Hiển thị các checkbox\n",
        "display(checkbox_basic)\n",
        "display(checkbox_standart)\n",
        "display(checkbox_premium)\n",
        "\n",
        "# Tạo nút submit\n",
        "button = widgets.Button(description=\"Thực thi\")\n",
        "\n",
        "# Hàm xử lý khi nút submit được nhấn\n",
        "def on_button_clicked(b):\n",
        "    account_types = []\n",
        "    if checkbox_basic.value:\n",
        "        account_types.append(\"Basic\")\n",
        "    if checkbox_standart.value:\n",
        "        account_types.append(\"Standart\")\n",
        "    if checkbox_premium.value:\n",
        "        account_types.append(\"Premium\")\n",
        "\n",
        "    for filename in files:\n",
        "        filepath = os.path.join(\"json_cookies\", filename)\n",
        "        if os.path.isfile(filepath) and any(filename.startswith(f\"[{account_type} -\") for account_type in account_types):\n",
        "            shutil.copy(filepath, 'filtered_cookies')\n",
        "    output.clear()\n",
        "\n",
        "button.on_click(on_button_clicked)\n",
        "display(button)"
      ],
      "metadata": {
        "id": "XJ-EjWqoBFCc",
        "cellView": "form"
      },
      "execution_count": null,
      "outputs": []
    },
    {
      "cell_type": "code",
      "source": [
        "# @title **Bước 5: Check cookie tự động và tạo link tải về**\n",
        "!python3 mains.py"
      ],
      "metadata": {
        "id": "1SKue4199jNI"
      },
      "execution_count": null,
      "outputs": []
    },
    {
      "cell_type": "code",
      "source": [],
      "metadata": {
        "id": "hi8fNDbFrv_v"
      },
      "execution_count": null,
      "outputs": []
    }
  ],
  "metadata": {
    "colab": {
      "cell_execution_strategy": "setup",
      "provenance": [],
      "private_outputs": true,
      "include_colab_link": true
    },
    "kernelspec": {
      "display_name": "Python 3",
      "name": "python3"
    },
    "language_info": {
      "name": "python"
    }
  },
  "nbformat": 4,
  "nbformat_minor": 0
}